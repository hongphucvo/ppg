{
 "cells": [
  {
   "cell_type": "code",
   "execution_count": 1,
   "metadata": {},
   "outputs": [],
   "source": [
    "import pandas as pd\n",
    "import sys\n",
    "import os\n",
    "sys.path.append(os.path.dirname(os.path.dirname(os.path.abspath(\"__file__\"))))\n",
    "from src.data_reader import UnifiedDataReader\n",
    "from src.clinical_stats import *\n",
    "\n"
   ]
  },
  {
   "cell_type": "code",
   "execution_count": 2,
   "metadata": {},
   "outputs": [
    {
     "name": "stdout",
     "output_type": "stream",
     "text": [
      "1. Extracting demographics...\n"
     ]
    }
   ],
   "source": [
    "\n",
    "# 1. Extract demographics from different sources\n",
    "print(\"1. Extracting demographics...\")\n",
    "# Initialize the reader\n",
    "reader = UnifiedDataReader(base_path=\"../../../dataset\")"
   ]
  },
  {
   "cell_type": "code",
   "execution_count": 6,
   "metadata": {},
   "outputs": [],
   "source": [
    "dalia = reader.read_demographics(\"dalia\")\n",
    "dalia['subject'] = 'dalia_'+dalia['subject']\n",
    "ptt = reader.read_demographics(\"ptt\")\n",
    "ptt['subject'] = 'ptt_'+ptt['subject']\n",
    "data = pd.concat([dalia,ptt],ignore_index=False)\n",
    "# data.to_csv('../data/demographic.csv',index=False)\n",
    "# Analyze demographics\n",
    "stats = analyze_demographics(data)\n",
    "\n",
    "# Create visualizations\n",
    "visualize_demographics(data, output_dir='../plots/rep-paper')\n",
    "\n",
    "# Print clinical insights\n",
    "print_clinical_insights(stats)"
   ]
  },
  {
   "cell_type": "code",
   "execution_count": null,
   "metadata": {},
   "outputs": [],
   "source": []
  }
 ],
 "metadata": {
  "kernelspec": {
   "display_name": ".venv",
   "language": "python",
   "name": "python3"
  },
  "language_info": {
   "codemirror_mode": {
    "name": "ipython",
    "version": 3
   },
   "file_extension": ".py",
   "mimetype": "text/x-python",
   "name": "python",
   "nbconvert_exporter": "python",
   "pygments_lexer": "ipython3",
   "version": "3.12.9"
  }
 },
 "nbformat": 4,
 "nbformat_minor": 2
}
